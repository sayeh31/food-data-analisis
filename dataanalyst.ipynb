{
  "cells": [
    {
      "cell_type": "markdown",
      "metadata": {
        "id": "view-in-github",
        "colab_type": "text"
      },
      "source": [
        "<a href=\"https://colab.research.google.com/github/sayeh31/food-data-analisis/blob/main/dataanalyst.ipynb\" target=\"_parent\"><img src=\"https://colab.research.google.com/assets/colab-badge.svg\" alt=\"Open In Colab\"/></a>"
      ]
    },
    {
      "cell_type": "code",
      "execution_count": null,
      "metadata": {
        "colab": {
          "background_save": true
        },
        "id": "grY5WxDayQVB"
      },
      "outputs": [],
      "source": [
        "import pandas as pd\n",
        "import pandas as pd\n",
        "import seaborn as sns\n",
        "import matplotlib.pyplot as plt\n",
        "import numpy as np\n",
        "from numpy.ma import count\n",
        "import datetime as dt\n",
        "#import missingno as msno\n",
        "from textwrap import wrap"
      ]
    },
    {
      "cell_type": "code",
      "execution_count": null,
      "metadata": {
        "colab": {
          "base_uri": "https://localhost:8080/"
        },
        "id": "_r0gGIzRyQVG",
        "outputId": "9addbb90-bf22-46b5-9c96-ee670e11920a"
      },
      "outputs": [
        {
          "name": "stdout",
          "output_type": "stream",
          "text": [
            "<class 'pandas.core.frame.DataFrame'>\n",
            "RangeIndex: 29057 entries, 0 to 29056\n",
            "Data columns (total 6 columns):\n",
            " #   Column         Non-Null Count  Dtype  \n",
            "---  ------         --------------  -----  \n",
            " 0   order_id       29057 non-null  int64  \n",
            " 1   user_id        29057 non-null  int64  \n",
            " 2   created_at     29057 non-null  object \n",
            " 3   discount_cost  29057 non-null  int64  \n",
            " 4   discount_type  6925 non-null   float64\n",
            " 5   basket         29057 non-null  int64  \n",
            "dtypes: float64(1), int64(4), object(1)\n",
            "memory usage: 1.3+ MB\n"
          ]
        }
      ],
      "source": [
        "data=pd.read_csv(\"Data analyst Task.csv\")\n",
        "data.info()"
      ]
    },
    {
      "cell_type": "code",
      "execution_count": null,
      "metadata": {
        "colab": {
          "base_uri": "https://localhost:8080/",
          "height": 424
        },
        "id": "7zpeEWr_aYmQ",
        "outputId": "081005cc-b2f5-448f-837c-eaef7335bbb4"
      },
      "outputs": [
        {
          "data": {
            "text/html": [
              "\n",
              "  <div id=\"df-c92ca525-023b-4c66-8daf-0c9ec26625ea\">\n",
              "    <div class=\"colab-df-container\">\n",
              "      <div>\n",
              "<style scoped>\n",
              "    .dataframe tbody tr th:only-of-type {\n",
              "        vertical-align: middle;\n",
              "    }\n",
              "\n",
              "    .dataframe tbody tr th {\n",
              "        vertical-align: top;\n",
              "    }\n",
              "\n",
              "    .dataframe thead th {\n",
              "        text-align: right;\n",
              "    }\n",
              "</style>\n",
              "<table border=\"1\" class=\"dataframe\">\n",
              "  <thead>\n",
              "    <tr style=\"text-align: right;\">\n",
              "      <th></th>\n",
              "      <th>order_id</th>\n",
              "      <th>user_id</th>\n",
              "      <th>created_at</th>\n",
              "      <th>discount_cost</th>\n",
              "      <th>discount_type</th>\n",
              "      <th>basket</th>\n",
              "    </tr>\n",
              "  </thead>\n",
              "  <tbody>\n",
              "    <tr>\n",
              "      <th>0</th>\n",
              "      <td>1</td>\n",
              "      <td>1</td>\n",
              "      <td>4/12/2021</td>\n",
              "      <td>10000</td>\n",
              "      <td>1.0</td>\n",
              "      <td>12000</td>\n",
              "    </tr>\n",
              "    <tr>\n",
              "      <th>1</th>\n",
              "      <td>2</td>\n",
              "      <td>2</td>\n",
              "      <td>5/9/2021</td>\n",
              "      <td>0</td>\n",
              "      <td>NaN</td>\n",
              "      <td>20000</td>\n",
              "    </tr>\n",
              "    <tr>\n",
              "      <th>2</th>\n",
              "      <td>3</td>\n",
              "      <td>3</td>\n",
              "      <td>5/9/2021</td>\n",
              "      <td>10000</td>\n",
              "      <td>1.0</td>\n",
              "      <td>14000</td>\n",
              "    </tr>\n",
              "    <tr>\n",
              "      <th>3</th>\n",
              "      <td>4</td>\n",
              "      <td>4</td>\n",
              "      <td>11/10/2021</td>\n",
              "      <td>0</td>\n",
              "      <td>NaN</td>\n",
              "      <td>15000</td>\n",
              "    </tr>\n",
              "    <tr>\n",
              "      <th>4</th>\n",
              "      <td>5</td>\n",
              "      <td>5</td>\n",
              "      <td>11/10/2021</td>\n",
              "      <td>10000</td>\n",
              "      <td>1.0</td>\n",
              "      <td>16000</td>\n",
              "    </tr>\n",
              "    <tr>\n",
              "      <th>...</th>\n",
              "      <td>...</td>\n",
              "      <td>...</td>\n",
              "      <td>...</td>\n",
              "      <td>...</td>\n",
              "      <td>...</td>\n",
              "      <td>...</td>\n",
              "    </tr>\n",
              "    <tr>\n",
              "      <th>29052</th>\n",
              "      <td>29053</td>\n",
              "      <td>6622</td>\n",
              "      <td>7/31/2022</td>\n",
              "      <td>0</td>\n",
              "      <td>NaN</td>\n",
              "      <td>18000</td>\n",
              "    </tr>\n",
              "    <tr>\n",
              "      <th>29053</th>\n",
              "      <td>29054</td>\n",
              "      <td>9985</td>\n",
              "      <td>7/31/2022</td>\n",
              "      <td>0</td>\n",
              "      <td>NaN</td>\n",
              "      <td>25000</td>\n",
              "    </tr>\n",
              "    <tr>\n",
              "      <th>29054</th>\n",
              "      <td>29055</td>\n",
              "      <td>8843</td>\n",
              "      <td>7/31/2022</td>\n",
              "      <td>6000</td>\n",
              "      <td>1.0</td>\n",
              "      <td>24000</td>\n",
              "    </tr>\n",
              "    <tr>\n",
              "      <th>29055</th>\n",
              "      <td>29056</td>\n",
              "      <td>8703</td>\n",
              "      <td>7/31/2022</td>\n",
              "      <td>0</td>\n",
              "      <td>NaN</td>\n",
              "      <td>40000</td>\n",
              "    </tr>\n",
              "    <tr>\n",
              "      <th>29056</th>\n",
              "      <td>29057</td>\n",
              "      <td>4424</td>\n",
              "      <td>7/31/2022</td>\n",
              "      <td>0</td>\n",
              "      <td>NaN</td>\n",
              "      <td>17000</td>\n",
              "    </tr>\n",
              "  </tbody>\n",
              "</table>\n",
              "<p>29057 rows × 6 columns</p>\n",
              "</div>\n",
              "      <button class=\"colab-df-convert\" onclick=\"convertToInteractive('df-c92ca525-023b-4c66-8daf-0c9ec26625ea')\"\n",
              "              title=\"Convert this dataframe to an interactive table.\"\n",
              "              style=\"display:none;\">\n",
              "        \n",
              "  <svg xmlns=\"http://www.w3.org/2000/svg\" height=\"24px\"viewBox=\"0 0 24 24\"\n",
              "       width=\"24px\">\n",
              "    <path d=\"M0 0h24v24H0V0z\" fill=\"none\"/>\n",
              "    <path d=\"M18.56 5.44l.94 2.06.94-2.06 2.06-.94-2.06-.94-.94-2.06-.94 2.06-2.06.94zm-11 1L8.5 8.5l.94-2.06 2.06-.94-2.06-.94L8.5 2.5l-.94 2.06-2.06.94zm10 10l.94 2.06.94-2.06 2.06-.94-2.06-.94-.94-2.06-.94 2.06-2.06.94z\"/><path d=\"M17.41 7.96l-1.37-1.37c-.4-.4-.92-.59-1.43-.59-.52 0-1.04.2-1.43.59L10.3 9.45l-7.72 7.72c-.78.78-.78 2.05 0 2.83L4 21.41c.39.39.9.59 1.41.59.51 0 1.02-.2 1.41-.59l7.78-7.78 2.81-2.81c.8-.78.8-2.07 0-2.86zM5.41 20L4 18.59l7.72-7.72 1.47 1.35L5.41 20z\"/>\n",
              "  </svg>\n",
              "      </button>\n",
              "      \n",
              "  <style>\n",
              "    .colab-df-container {\n",
              "      display:flex;\n",
              "      flex-wrap:wrap;\n",
              "      gap: 12px;\n",
              "    }\n",
              "\n",
              "    .colab-df-convert {\n",
              "      background-color: #E8F0FE;\n",
              "      border: none;\n",
              "      border-radius: 50%;\n",
              "      cursor: pointer;\n",
              "      display: none;\n",
              "      fill: #1967D2;\n",
              "      height: 32px;\n",
              "      padding: 0 0 0 0;\n",
              "      width: 32px;\n",
              "    }\n",
              "\n",
              "    .colab-df-convert:hover {\n",
              "      background-color: #E2EBFA;\n",
              "      box-shadow: 0px 1px 2px rgba(60, 64, 67, 0.3), 0px 1px 3px 1px rgba(60, 64, 67, 0.15);\n",
              "      fill: #174EA6;\n",
              "    }\n",
              "\n",
              "    [theme=dark] .colab-df-convert {\n",
              "      background-color: #3B4455;\n",
              "      fill: #D2E3FC;\n",
              "    }\n",
              "\n",
              "    [theme=dark] .colab-df-convert:hover {\n",
              "      background-color: #434B5C;\n",
              "      box-shadow: 0px 1px 3px 1px rgba(0, 0, 0, 0.15);\n",
              "      filter: drop-shadow(0px 1px 2px rgba(0, 0, 0, 0.3));\n",
              "      fill: #FFFFFF;\n",
              "    }\n",
              "  </style>\n",
              "\n",
              "      <script>\n",
              "        const buttonEl =\n",
              "          document.querySelector('#df-c92ca525-023b-4c66-8daf-0c9ec26625ea button.colab-df-convert');\n",
              "        buttonEl.style.display =\n",
              "          google.colab.kernel.accessAllowed ? 'block' : 'none';\n",
              "\n",
              "        async function convertToInteractive(key) {\n",
              "          const element = document.querySelector('#df-c92ca525-023b-4c66-8daf-0c9ec26625ea');\n",
              "          const dataTable =\n",
              "            await google.colab.kernel.invokeFunction('convertToInteractive',\n",
              "                                                     [key], {});\n",
              "          if (!dataTable) return;\n",
              "\n",
              "          const docLinkHtml = 'Like what you see? Visit the ' +\n",
              "            '<a target=\"_blank\" href=https://colab.research.google.com/notebooks/data_table.ipynb>data table notebook</a>'\n",
              "            + ' to learn more about interactive tables.';\n",
              "          element.innerHTML = '';\n",
              "          dataTable['output_type'] = 'display_data';\n",
              "          await google.colab.output.renderOutput(dataTable, element);\n",
              "          const docLink = document.createElement('div');\n",
              "          docLink.innerHTML = docLinkHtml;\n",
              "          element.appendChild(docLink);\n",
              "        }\n",
              "      </script>\n",
              "    </div>\n",
              "  </div>\n",
              "  "
            ],
            "text/plain": [
              "       order_id  user_id  created_at  discount_cost  discount_type  basket\n",
              "0             1        1   4/12/2021          10000            1.0   12000\n",
              "1             2        2    5/9/2021              0            NaN   20000\n",
              "2             3        3    5/9/2021          10000            1.0   14000\n",
              "3             4        4  11/10/2021              0            NaN   15000\n",
              "4             5        5  11/10/2021          10000            1.0   16000\n",
              "...         ...      ...         ...            ...            ...     ...\n",
              "29052     29053     6622   7/31/2022              0            NaN   18000\n",
              "29053     29054     9985   7/31/2022              0            NaN   25000\n",
              "29054     29055     8843   7/31/2022           6000            1.0   24000\n",
              "29055     29056     8703   7/31/2022              0            NaN   40000\n",
              "29056     29057     4424   7/31/2022              0            NaN   17000\n",
              "\n",
              "[29057 rows x 6 columns]"
            ]
          },
          "execution_count": 98,
          "metadata": {},
          "output_type": "execute_result"
        }
      ],
      "source": [
        "data"
      ]
    },
    {
      "cell_type": "code",
      "execution_count": null,
      "metadata": {
        "id": "g5gWdjPUyQVI"
      },
      "outputs": [],
      "source": [
        "def changedate(x):\n",
        "    date_object = dt.datetime.strptime(x,\"%m/%d/%Y\").date()\n",
        "    return date_object\n"
      ]
    },
    {
      "cell_type": "code",
      "execution_count": null,
      "metadata": {
        "id": "V9XhjnKvyQVJ"
      },
      "outputs": [],
      "source": [
        "def get_month(x):\n",
        "    return dt.datetime(x.year,x.month,1)\n"
      ]
    },
    {
      "cell_type": "code",
      "execution_count": null,
      "metadata": {
        "id": "XMgwkI220tGI"
      },
      "outputs": [],
      "source": [
        "def prepare_data(data):\n",
        "  data[\"created_at\"]= data[\"created_at\"].apply(changedate)\n",
        "  data[\"month\"]= data[\"created_at\"].apply(get_month)\n",
        "  data[\"cohort month\"]= data.groupby(\"user_id\")[\"month\"].transform(\"min\")\n",
        "  return data"
      ]
    },
    {
      "cell_type": "code",
      "execution_count": null,
      "metadata": {
        "id": "3wDk_jDoyQVL"
      },
      "outputs": [],
      "source": [
        "def get_date_elements(df,column):\n",
        "    month=df[column].dt.month\n",
        "    year=df[column].dt.year\n",
        "    return month,year"
      ]
    },
    {
      "cell_type": "code",
      "execution_count": null,
      "metadata": {
        "id": "k6BOdyXjy3Zn"
      },
      "outputs": [],
      "source": [
        "def create_cohort_table_first(data):\n",
        "  month,year=get_date_elements(data,\"month\")\n",
        "  cohort_month,cohort_year=get_date_elements(data,\"cohort month\")\n",
        "  year_dif=year -cohort_year\n",
        "  month_dif=month-cohort_month\n",
        "  data[\"cohort index\"]=year_dif*12+month_dif+1\n",
        "  cohort_data=data.groupby([\"cohort month\",\"cohort index\"])[\"user_id\"].apply(pd.Series.nunique).reset_index()\n",
        "  cohort_table=cohort_data.pivot(index=\"cohort month\",columns=[\"cohort index\"],values=\"user_id\")\n",
        "  cohort_table=cohort_data.pivot(index=\"cohort month\",columns=[\"cohort index\"],values=\"user_id\")\n",
        "\n",
        "  return cohort_table"
      ]
    },
    {
      "cell_type": "code",
      "execution_count": null,
      "metadata": {
        "id": "0Rs-GDgBzRdW"
      },
      "outputs": [],
      "source": [
        "def create_cohort_table_orders(data):\n",
        "  month,year=get_date_elements(data,\"month\")\n",
        "  cohort_month,cohort_year=get_date_elements(data,\"cohort month\")\n",
        "  year_dif=year -cohort_year\n",
        "  month_dif=month-cohort_month\n",
        "  data[\"cohort index\"]=year_dif*12+month_dif+1\n",
        "  cohort_data=data.groupby([\"cohort month\",\"cohort index\"])[\"user_id\"].agg(count).reset_index()\n",
        "  cohort_table=cohort_data.pivot(index=\"cohort month\",columns=[\"cohort index\"],values=\"user_id\")\n",
        "  cohort_table=cohort_data.pivot(index=\"cohort month\",columns=[\"cohort index\"],values=\"user_id\")\n",
        "\n",
        "  return cohort_table"
      ]
    },
    {
      "cell_type": "code",
      "execution_count": null,
      "metadata": {
        "id": "UauKZDP6zuGU"
      },
      "outputs": [],
      "source": [
        "def visual_cohort_table(cohort_table):\n",
        "  cohort_table.index=cohort_table.index.strftime(\"%B %Y\")\n",
        "  new=cohort_table.divide(cohort_table.iloc[:,0],axis=0)\n",
        "  plt.figure(figsize=(12,6))\n",
        "  sns.heatmap(new,annot=True,fmt='.0%')"
      ]
    },
    {
      "cell_type": "code",
      "execution_count": null,
      "metadata": {
        "id": "v9Xp1VU72U8S"
      },
      "outputs": [],
      "source": [
        "def visual_cohort_table_orders(cohort_table):\n",
        "  cohort_table.index=cohort_table.index.strftime(\"%B %Y\")\n",
        "  plt.figure(figsize=(12,6))\n",
        "  sns.heatmap(cohort_table,annot=True,fmt=\".1f\")"
      ]
    },
    {
      "cell_type": "code",
      "execution_count": null,
      "metadata": {
        "id": "BXChRxSC5bBv"
      },
      "outputs": [],
      "source": [
        "data=prepare_data(data)"
      ]
    },
    {
      "cell_type": "code",
      "execution_count": null,
      "metadata": {
        "colab": {
          "base_uri": "https://localhost:8080/",
          "height": 392
        },
        "id": "bkUx56s-1A7y",
        "outputId": "325f8f41-a26e-4ca1-ddbd-1040bc87993c"
      },
      "outputs": [
        {
          "data": {
            "image/png": "[encoded data removed]",
            "text/plain": [
              "<Figure size 864x432 with 2 Axes>"
            ]
          },
          "metadata": {},
          "output_type": "display_data"
        }
      ],
      "source": [
        "\n",
        "visual_cohort_table(create_cohort_table_first(data))"
      ]
    },
    {
      "cell_type": "code",
      "execution_count": null,
      "metadata": {
        "colab": {
          "base_uri": "https://localhost:8080/",
          "height": 388
        },
        "id": "o409GvdJ5YBd",
        "outputId": "3cbab2e2-a5f7-4969-c941-05c31b6c5b68"
      },
      "outputs": [
        {
          "data": {
            "image/png": "[encoded data removed]",
            "text/plain": [
              "<Figure size 864x432 with 2 Axes>"
            ]
          },
          "metadata": {},
          "output_type": "display_data"
        }
      ],
      "source": [
        "\n",
        "visual_cohort_table_orders(create_cohort_table_orders(data))"
      ]
    },
    {
      "cell_type": "markdown",
      "metadata": {
        "id": "II6BOUBOyQVS"
      },
      "source": [
        "# **discount results**\n",
        "\n"
      ]
    },
    {
      "cell_type": "code",
      "execution_count": null,
      "metadata": {
        "id": "V8y7wl8cenGC"
      },
      "outputs": [],
      "source": [
        "first_order_data=data.groupby(\"user_id\")[\"created_at\"].agg(min).reset_index()"
      ]
    },
    {
      "cell_type": "code",
      "execution_count": null,
      "metadata": {
        "id": "_IK-t6zpfa1b"
      },
      "outputs": [],
      "source": [
        "first_table=pd.merge(first_order_data, data, how='left')"
      ]
    },
    {
      "cell_type": "code",
      "execution_count": null,
      "metadata": {
        "colab": {
          "base_uri": "https://localhost:8080/",
          "height": 424
        },
        "id": "Z4ikRH4ke1iZ",
        "outputId": "3181728e-a067-4807-8b4b-88fe17714d67"
      },
      "outputs": [
        {
          "data": {
            "text/html": [
              "\n",
              "  <div id=\"df-693eaa7b-d5a2-4a1c-aba7-4e5cbef981a7\">\n",
              "    <div class=\"colab-df-container\">\n",
              "      <div>\n",
              "<style scoped>\n",
              "    .dataframe tbody tr th:only-of-type {\n",
              "        vertical-align: middle;\n",
              "    }\n",
              "\n",
              "    .dataframe tbody tr th {\n",
              "        vertical-align: top;\n",
              "    }\n",
              "\n",
              "    .dataframe thead th {\n",
              "        text-align: right;\n",
              "    }\n",
              "</style>\n",
              "<table border=\"1\" class=\"dataframe\">\n",
              "  <thead>\n",
              "    <tr style=\"text-align: right;\">\n",
              "      <th></th>\n",
              "      <th>user_id</th>\n",
              "      <th>created_at</th>\n",
              "      <th>order_id</th>\n",
              "      <th>discount_cost</th>\n",
              "      <th>discount_type</th>\n",
              "      <th>basket</th>\n",
              "      <th>month</th>\n",
              "      <th>cohort month</th>\n",
              "    </tr>\n",
              "  </thead>\n",
              "  <tbody>\n",
              "    <tr>\n",
              "      <th>0</th>\n",
              "      <td>1</td>\n",
              "      <td>2021-04-12</td>\n",
              "      <td>1</td>\n",
              "      <td>10000</td>\n",
              "      <td>1.0</td>\n",
              "      <td>12000</td>\n",
              "      <td>2021-04-01</td>\n",
              "      <td>2021-04-01</td>\n",
              "    </tr>\n",
              "    <tr>\n",
              "      <th>1</th>\n",
              "      <td>2</td>\n",
              "      <td>2021-05-09</td>\n",
              "      <td>2</td>\n",
              "      <td>0</td>\n",
              "      <td>NaN</td>\n",
              "      <td>20000</td>\n",
              "      <td>2021-05-01</td>\n",
              "      <td>2021-05-01</td>\n",
              "    </tr>\n",
              "    <tr>\n",
              "      <th>2</th>\n",
              "      <td>3</td>\n",
              "      <td>2021-05-09</td>\n",
              "      <td>3</td>\n",
              "      <td>10000</td>\n",
              "      <td>1.0</td>\n",
              "      <td>14000</td>\n",
              "      <td>2021-05-01</td>\n",
              "      <td>2021-05-01</td>\n",
              "    </tr>\n",
              "    <tr>\n",
              "      <th>3</th>\n",
              "      <td>4</td>\n",
              "      <td>2021-11-10</td>\n",
              "      <td>4</td>\n",
              "      <td>0</td>\n",
              "      <td>NaN</td>\n",
              "      <td>15000</td>\n",
              "      <td>2021-11-01</td>\n",
              "      <td>2021-11-01</td>\n",
              "    </tr>\n",
              "    <tr>\n",
              "      <th>4</th>\n",
              "      <td>5</td>\n",
              "      <td>2021-11-10</td>\n",
              "      <td>5</td>\n",
              "      <td>10000</td>\n",
              "      <td>1.0</td>\n",
              "      <td>16000</td>\n",
              "      <td>2021-11-01</td>\n",
              "      <td>2021-11-01</td>\n",
              "    </tr>\n",
              "    <tr>\n",
              "      <th>...</th>\n",
              "      <td>...</td>\n",
              "      <td>...</td>\n",
              "      <td>...</td>\n",
              "      <td>...</td>\n",
              "      <td>...</td>\n",
              "      <td>...</td>\n",
              "      <td>...</td>\n",
              "      <td>...</td>\n",
              "    </tr>\n",
              "    <tr>\n",
              "      <th>10094</th>\n",
              "      <td>9981</td>\n",
              "      <td>2022-07-31</td>\n",
              "      <td>29031</td>\n",
              "      <td>10000</td>\n",
              "      <td>1.0</td>\n",
              "      <td>24000</td>\n",
              "      <td>2022-07-01</td>\n",
              "      <td>2022-07-01</td>\n",
              "    </tr>\n",
              "    <tr>\n",
              "      <th>10095</th>\n",
              "      <td>9982</td>\n",
              "      <td>2022-07-31</td>\n",
              "      <td>29034</td>\n",
              "      <td>0</td>\n",
              "      <td>NaN</td>\n",
              "      <td>30000</td>\n",
              "      <td>2022-07-01</td>\n",
              "      <td>2022-07-01</td>\n",
              "    </tr>\n",
              "    <tr>\n",
              "      <th>10096</th>\n",
              "      <td>9983</td>\n",
              "      <td>2022-07-31</td>\n",
              "      <td>29036</td>\n",
              "      <td>0</td>\n",
              "      <td>NaN</td>\n",
              "      <td>21000</td>\n",
              "      <td>2022-07-01</td>\n",
              "      <td>2022-07-01</td>\n",
              "    </tr>\n",
              "    <tr>\n",
              "      <th>10097</th>\n",
              "      <td>9984</td>\n",
              "      <td>2022-07-31</td>\n",
              "      <td>29039</td>\n",
              "      <td>0</td>\n",
              "      <td>NaN</td>\n",
              "      <td>22000</td>\n",
              "      <td>2022-07-01</td>\n",
              "      <td>2022-07-01</td>\n",
              "    </tr>\n",
              "    <tr>\n",
              "      <th>10098</th>\n",
              "      <td>9985</td>\n",
              "      <td>2022-07-31</td>\n",
              "      <td>29054</td>\n",
              "      <td>0</td>\n",
              "      <td>NaN</td>\n",
              "      <td>25000</td>\n",
              "      <td>2022-07-01</td>\n",
              "      <td>2022-07-01</td>\n",
              "    </tr>\n",
              "  </tbody>\n",
              "</table>\n",
              "<p>10099 rows × 8 columns</p>\n",
              "</div>\n",
              "      <button class=\"colab-df-convert\" onclick=\"convertToInteractive('df-693eaa7b-d5a2-4a1c-aba7-4e5cbef981a7')\"\n",
              "              title=\"Convert this dataframe to an interactive table.\"\n",
              "              style=\"display:none;\">\n",
              "        \n",
              "  <svg xmlns=\"http://www.w3.org/2000/svg\" height=\"24px\"viewBox=\"0 0 24 24\"\n",
              "       width=\"24px\">\n",
              "    <path d=\"M0 0h24v24H0V0z\" fill=\"none\"/>\n",
              "    <path d=\"M18.56 5.44l.94 2.06.94-2.06 2.06-.94-2.06-.94-.94-2.06-.94 2.06-2.06.94zm-11 1L8.5 8.5l.94-2.06 2.06-.94-2.06-.94L8.5 2.5l-.94 2.06-2.06.94zm10 10l.94 2.06.94-2.06 2.06-.94-2.06-.94-.94-2.06-.94 2.06-2.06.94z\"/><path d=\"M17.41 7.96l-1.37-1.37c-.4-.4-.92-.59-1.43-.59-.52 0-1.04.2-1.43.59L10.3 9.45l-7.72 7.72c-.78.78-.78 2.05 0 2.83L4 21.41c.39.39.9.59 1.41.59.51 0 1.02-.2 1.41-.59l7.78-7.78 2.81-2.81c.8-.78.8-2.07 0-2.86zM5.41 20L4 18.59l7.72-7.72 1.47 1.35L5.41 20z\"/>\n",
              "  </svg>\n",
              "      </button>\n",
              "      \n",
              "  <style>\n",
              "    .colab-df-container {\n",
              "      display:flex;\n",
              "      flex-wrap:wrap;\n",
              "      gap: 12px;\n",
              "    }\n",
              "\n",
              "    .colab-df-convert {\n",
              "      background-color: #E8F0FE;\n",
              "      border: none;\n",
              "      border-radius: 50%;\n",
              "      cursor: pointer;\n",
              "      display: none;\n",
              "      fill: #1967D2;\n",
              "      height: 32px;\n",
              "      padding: 0 0 0 0;\n",
              "      width: 32px;\n",
              "    }\n",
              "\n",
              "    .colab-df-convert:hover {\n",
              "      background-color: #E2EBFA;\n",
              "      box-shadow: 0px 1px 2px rgba(60, 64, 67, 0.3), 0px 1px 3px 1px rgba(60, 64, 67, 0.15);\n",
              "      fill: #174EA6;\n",
              "    }\n",
              "\n",
              "    [theme=dark] .colab-df-convert {\n",
              "      background-color: #3B4455;\n",
              "      fill: #D2E3FC;\n",
              "    }\n",
              "\n",
              "    [theme=dark] .colab-df-convert:hover {\n",
              "      background-color: #434B5C;\n",
              "      box-shadow: 0px 1px 3px 1px rgba(0, 0, 0, 0.15);\n",
              "      filter: drop-shadow(0px 1px 2px rgba(0, 0, 0, 0.3));\n",
              "      fill: #FFFFFF;\n",
              "    }\n",
              "  </style>\n",
              "\n",
              "      <script>\n",
              "        const buttonEl =\n",
              "          document.querySelector('#df-693eaa7b-d5a2-4a1c-aba7-4e5cbef981a7 button.colab-df-convert');\n",
              "        buttonEl.style.display =\n",
              "          google.colab.kernel.accessAllowed ? 'block' : 'none';\n",
              "\n",
              "        async function convertToInteractive(key) {\n",
              "          const element = document.querySelector('#df-693eaa7b-d5a2-4a1c-aba7-4e5cbef981a7');\n",
              "          const dataTable =\n",
              "            await google.colab.kernel.invokeFunction('convertToInteractive',\n",
              "                                                     [key], {});\n",
              "          if (!dataTable) return;\n",
              "\n",
              "          const docLinkHtml = 'Like what you see? Visit the ' +\n",
              "            '<a target=\"_blank\" href=https://colab.research.google.com/notebooks/data_table.ipynb>data table notebook</a>'\n",
              "            + ' to learn more about interactive tables.';\n",
              "          element.innerHTML = '';\n",
              "          dataTable['output_type'] = 'display_data';\n",
              "          await google.colab.output.renderOutput(dataTable, element);\n",
              "          const docLink = document.createElement('div');\n",
              "          docLink.innerHTML = docLinkHtml;\n",
              "          element.appendChild(docLink);\n",
              "        }\n",
              "      </script>\n",
              "    </div>\n",
              "  </div>\n",
              "  "
            ],
            "text/plain": [
              "       user_id  created_at  order_id  discount_cost  discount_type  basket  \\\n",
              "0            1  2021-04-12         1          10000            1.0   12000   \n",
              "1            2  2021-05-09         2              0            NaN   20000   \n",
              "2            3  2021-05-09         3          10000            1.0   14000   \n",
              "3            4  2021-11-10         4              0            NaN   15000   \n",
              "4            5  2021-11-10         5          10000            1.0   16000   \n",
              "...        ...         ...       ...            ...            ...     ...   \n",
              "10094     9981  2022-07-31     29031          10000            1.0   24000   \n",
              "10095     9982  2022-07-31     29034              0            NaN   30000   \n",
              "10096     9983  2022-07-31     29036              0            NaN   21000   \n",
              "10097     9984  2022-07-31     29039              0            NaN   22000   \n",
              "10098     9985  2022-07-31     29054              0            NaN   25000   \n",
              "\n",
              "           month cohort month  \n",
              "0     2021-04-01   2021-04-01  \n",
              "1     2021-05-01   2021-05-01  \n",
              "2     2021-05-01   2021-05-01  \n",
              "3     2021-11-01   2021-11-01  \n",
              "4     2021-11-01   2021-11-01  \n",
              "...          ...          ...  \n",
              "10094 2022-07-01   2022-07-01  \n",
              "10095 2022-07-01   2022-07-01  \n",
              "10096 2022-07-01   2022-07-01  \n",
              "10097 2022-07-01   2022-07-01  \n",
              "10098 2022-07-01   2022-07-01  \n",
              "\n",
              "[10099 rows x 8 columns]"
            ]
          },
          "execution_count": 314,
          "metadata": {},
          "output_type": "execute_result"
        }
      ],
      "source": [
        "first_table"
      ]
    },
    {
      "cell_type": "code",
      "execution_count": null,
      "metadata": {
        "id": "ZczTWZmSCE5h"
      },
      "outputs": [],
      "source": [
        "discount_data=first_table[first_table[\"discount_cost\"]>0]\n",
        "#first_discount=discount_data.groupby(\"user_id\")[\"created_at\"].agg('min').reset_index()\n",
        "first_discount_users=data[data[\"user_id\"].isin(discount_data[\"user_id\"])]"
      ]
    },
    {
      "cell_type": "code",
      "execution_count": null,
      "metadata": {
        "colab": {
          "base_uri": "https://localhost:8080/",
          "height": 424
        },
        "id": "4sP1mZJKjrAS",
        "outputId": "acd8cf47-652e-4183-eae8-7699e83becb9"
      },
      "outputs": [
        {
          "data": {
            "text/html": [
              "\n",
              "  <div id=\"df-243e358b-d265-419a-ab16-6d0c82fecae8\">\n",
              "    <div class=\"colab-df-container\">\n",
              "      <div>\n",
              "<style scoped>\n",
              "    .dataframe tbody tr th:only-of-type {\n",
              "        vertical-align: middle;\n",
              "    }\n",
              "\n",
              "    .dataframe tbody tr th {\n",
              "        vertical-align: top;\n",
              "    }\n",
              "\n",
              "    .dataframe thead th {\n",
              "        text-align: right;\n",
              "    }\n",
              "</style>\n",
              "<table border=\"1\" class=\"dataframe\">\n",
              "  <thead>\n",
              "    <tr style=\"text-align: right;\">\n",
              "      <th></th>\n",
              "      <th>user_id</th>\n",
              "      <th>created_at</th>\n",
              "      <th>order_id</th>\n",
              "      <th>discount_cost</th>\n",
              "      <th>discount_type</th>\n",
              "      <th>basket</th>\n",
              "      <th>month</th>\n",
              "      <th>cohort month</th>\n",
              "    </tr>\n",
              "  </thead>\n",
              "  <tbody>\n",
              "    <tr>\n",
              "      <th>0</th>\n",
              "      <td>1</td>\n",
              "      <td>2021-04-12</td>\n",
              "      <td>1</td>\n",
              "      <td>10000</td>\n",
              "      <td>1.0</td>\n",
              "      <td>12000</td>\n",
              "      <td>2021-04-01</td>\n",
              "      <td>2021-04-01</td>\n",
              "    </tr>\n",
              "    <tr>\n",
              "      <th>2</th>\n",
              "      <td>3</td>\n",
              "      <td>2021-05-09</td>\n",
              "      <td>3</td>\n",
              "      <td>10000</td>\n",
              "      <td>1.0</td>\n",
              "      <td>14000</td>\n",
              "      <td>2021-05-01</td>\n",
              "      <td>2021-05-01</td>\n",
              "    </tr>\n",
              "    <tr>\n",
              "      <th>4</th>\n",
              "      <td>5</td>\n",
              "      <td>2021-11-10</td>\n",
              "      <td>5</td>\n",
              "      <td>10000</td>\n",
              "      <td>1.0</td>\n",
              "      <td>16000</td>\n",
              "      <td>2021-11-01</td>\n",
              "      <td>2021-11-01</td>\n",
              "    </tr>\n",
              "    <tr>\n",
              "      <th>7</th>\n",
              "      <td>8</td>\n",
              "      <td>2022-01-01</td>\n",
              "      <td>8</td>\n",
              "      <td>10000</td>\n",
              "      <td>1.0</td>\n",
              "      <td>10000</td>\n",
              "      <td>2022-01-01</td>\n",
              "      <td>2022-01-01</td>\n",
              "    </tr>\n",
              "    <tr>\n",
              "      <th>10</th>\n",
              "      <td>11</td>\n",
              "      <td>2022-01-01</td>\n",
              "      <td>11</td>\n",
              "      <td>15000</td>\n",
              "      <td>1.0</td>\n",
              "      <td>21000</td>\n",
              "      <td>2022-01-01</td>\n",
              "      <td>2022-01-01</td>\n",
              "    </tr>\n",
              "    <tr>\n",
              "      <th>...</th>\n",
              "      <td>...</td>\n",
              "      <td>...</td>\n",
              "      <td>...</td>\n",
              "      <td>...</td>\n",
              "      <td>...</td>\n",
              "      <td>...</td>\n",
              "      <td>...</td>\n",
              "      <td>...</td>\n",
              "    </tr>\n",
              "    <tr>\n",
              "      <th>10083</th>\n",
              "      <td>9970</td>\n",
              "      <td>2022-07-31</td>\n",
              "      <td>28969</td>\n",
              "      <td>15000</td>\n",
              "      <td>1.0</td>\n",
              "      <td>20000</td>\n",
              "      <td>2022-07-01</td>\n",
              "      <td>2022-07-01</td>\n",
              "    </tr>\n",
              "    <tr>\n",
              "      <th>10084</th>\n",
              "      <td>9971</td>\n",
              "      <td>2022-07-31</td>\n",
              "      <td>28971</td>\n",
              "      <td>15000</td>\n",
              "      <td>1.0</td>\n",
              "      <td>15000</td>\n",
              "      <td>2022-07-01</td>\n",
              "      <td>2022-07-01</td>\n",
              "    </tr>\n",
              "    <tr>\n",
              "      <th>10087</th>\n",
              "      <td>9974</td>\n",
              "      <td>2022-07-31</td>\n",
              "      <td>28986</td>\n",
              "      <td>10000</td>\n",
              "      <td>1.0</td>\n",
              "      <td>20000</td>\n",
              "      <td>2022-07-01</td>\n",
              "      <td>2022-07-01</td>\n",
              "    </tr>\n",
              "    <tr>\n",
              "      <th>10091</th>\n",
              "      <td>9978</td>\n",
              "      <td>2022-07-31</td>\n",
              "      <td>29023</td>\n",
              "      <td>10000</td>\n",
              "      <td>1.0</td>\n",
              "      <td>24000</td>\n",
              "      <td>2022-07-01</td>\n",
              "      <td>2022-07-01</td>\n",
              "    </tr>\n",
              "    <tr>\n",
              "      <th>10094</th>\n",
              "      <td>9981</td>\n",
              "      <td>2022-07-31</td>\n",
              "      <td>29031</td>\n",
              "      <td>10000</td>\n",
              "      <td>1.0</td>\n",
              "      <td>24000</td>\n",
              "      <td>2022-07-01</td>\n",
              "      <td>2022-07-01</td>\n",
              "    </tr>\n",
              "  </tbody>\n",
              "</table>\n",
              "<p>4375 rows × 8 columns</p>\n",
              "</div>\n",
              "      <button class=\"colab-df-convert\" onclick=\"convertToInteractive('df-243e358b-d265-419a-ab16-6d0c82fecae8')\"\n",
              "              title=\"Convert this dataframe to an interactive table.\"\n",
              "              style=\"display:none;\">\n",
              "        \n",
              "  <svg xmlns=\"http://www.w3.org/2000/svg\" height=\"24px\"viewBox=\"0 0 24 24\"\n",
              "       width=\"24px\">\n",
              "    <path d=\"M0 0h24v24H0V0z\" fill=\"none\"/>\n",
              "    <path d=\"M18.56 5.44l.94 2.06.94-2.06 2.06-.94-2.06-.94-.94-2.06-.94 2.06-2.06.94zm-11 1L8.5 8.5l.94-2.06 2.06-.94-2.06-.94L8.5 2.5l-.94 2.06-2.06.94zm10 10l.94 2.06.94-2.06 2.06-.94-2.06-.94-.94-2.06-.94 2.06-2.06.94z\"/><path d=\"M17.41 7.96l-1.37-1.37c-.4-.4-.92-.59-1.43-.59-.52 0-1.04.2-1.43.59L10.3 9.45l-7.72 7.72c-.78.78-.78 2.05 0 2.83L4 21.41c.39.39.9.59 1.41.59.51 0 1.02-.2 1.41-.59l7.78-7.78 2.81-2.81c.8-.78.8-2.07 0-2.86zM5.41 20L4 18.59l7.72-7.72 1.47 1.35L5.41 20z\"/>\n",
              "  </svg>\n",
              "      </button>\n",
              "      \n",
              "  <style>\n",
              "    .colab-df-container {\n",
              "      display:flex;\n",
              "      flex-wrap:wrap;\n",
              "      gap: 12px;\n",
              "    }\n",
              "\n",
              "    .colab-df-convert {\n",
              "      background-color: #E8F0FE;\n",
              "      border: none;\n",
              "      border-radius: 50%;\n",
              "      cursor: pointer;\n",
              "      display: none;\n",
              "      fill: #1967D2;\n",
              "      height: 32px;\n",
              "      padding: 0 0 0 0;\n",
              "      width: 32px;\n",
              "    }\n",
              "\n",
              "    .colab-df-convert:hover {\n",
              "      background-color: #E2EBFA;\n",
              "      box-shadow: 0px 1px 2px rgba(60, 64, 67, 0.3), 0px 1px 3px 1px rgba(60, 64, 67, 0.15);\n",
              "      fill: #174EA6;\n",
              "    }\n",
              "\n",
              "    [theme=dark] .colab-df-convert {\n",
              "      background-color: #3B4455;\n",
              "      fill: #D2E3FC;\n",
              "    }\n",
              "\n",
              "    [theme=dark] .colab-df-convert:hover {\n",
              "      background-color: #434B5C;\n",
              "      box-shadow: 0px 1px 3px 1px rgba(0, 0, 0, 0.15);\n",
              "      filter: drop-shadow(0px 1px 2px rgba(0, 0, 0, 0.3));\n",
              "      fill: #FFFFFF;\n",
              "    }\n",
              "  </style>\n",
              "\n",
              "      <script>\n",
              "        const buttonEl =\n",
              "          document.querySelector('#df-243e358b-d265-419a-ab16-6d0c82fecae8 button.colab-df-convert');\n",
              "        buttonEl.style.display =\n",
              "          google.colab.kernel.accessAllowed ? 'block' : 'none';\n",
              "\n",
              "        async function convertToInteractive(key) {\n",
              "          const element = document.querySelector('#df-243e358b-d265-419a-ab16-6d0c82fecae8');\n",
              "          const dataTable =\n",
              "            await google.colab.kernel.invokeFunction('convertToInteractive',\n",
              "                                                     [key], {});\n",
              "          if (!dataTable) return;\n",
              "\n",
              "          const docLinkHtml = 'Like what you see? Visit the ' +\n",
              "            '<a target=\"_blank\" href=https://colab.research.google.com/notebooks/data_table.ipynb>data table notebook</a>'\n",
              "            + ' to learn more about interactive tables.';\n",
              "          element.innerHTML = '';\n",
              "          dataTable['output_type'] = 'display_data';\n",
              "          await google.colab.output.renderOutput(dataTable, element);\n",
              "          const docLink = document.createElement('div');\n",
              "          docLink.innerHTML = docLinkHtml;\n",
              "          element.appendChild(docLink);\n",
              "        }\n",
              "      </script>\n",
              "    </div>\n",
              "  </div>\n",
              "  "
            ],
            "text/plain": [
              "       user_id  created_at  order_id  discount_cost  discount_type  basket  \\\n",
              "0            1  2021-04-12         1          10000            1.0   12000   \n",
              "2            3  2021-05-09         3          10000            1.0   14000   \n",
              "4            5  2021-11-10         5          10000            1.0   16000   \n",
              "7            8  2022-01-01         8          10000            1.0   10000   \n",
              "10          11  2022-01-01        11          15000            1.0   21000   \n",
              "...        ...         ...       ...            ...            ...     ...   \n",
              "10083     9970  2022-07-31     28969          15000            1.0   20000   \n",
              "10084     9971  2022-07-31     28971          15000            1.0   15000   \n",
              "10087     9974  2022-07-31     28986          10000            1.0   20000   \n",
              "10091     9978  2022-07-31     29023          10000            1.0   24000   \n",
              "10094     9981  2022-07-31     29031          10000            1.0   24000   \n",
              "\n",
              "           month cohort month  \n",
              "0     2021-04-01   2021-04-01  \n",
              "2     2021-05-01   2021-05-01  \n",
              "4     2021-11-01   2021-11-01  \n",
              "7     2022-01-01   2022-01-01  \n",
              "10    2022-01-01   2022-01-01  \n",
              "...          ...          ...  \n",
              "10083 2022-07-01   2022-07-01  \n",
              "10084 2022-07-01   2022-07-01  \n",
              "10087 2022-07-01   2022-07-01  \n",
              "10091 2022-07-01   2022-07-01  \n",
              "10094 2022-07-01   2022-07-01  \n",
              "\n",
              "[4375 rows x 8 columns]"
            ]
          },
          "execution_count": 328,
          "metadata": {},
          "output_type": "execute_result"
        }
      ],
      "source": [
        "discount_data"
      ]
    },
    {
      "cell_type": "code",
      "execution_count": null,
      "metadata": {
        "id": "w6DRa_z-JpMo"
      },
      "outputs": [],
      "source": [
        "none_discount_data=first_table[first_table[\"discount_cost\"]==0]\n",
        "#first_none_discount=none_discount_data.groupby(\"user_id\")[\"created_at\"].agg('min').reset_index()\n",
        "first_none_discount_users=data[data[\"user_id\"].isin(none_discount_data[\"user_id\"])]"
      ]
    },
    {
      "cell_type": "code",
      "execution_count": null,
      "metadata": {
        "colab": {
          "base_uri": "https://localhost:8080/",
          "height": 357
        },
        "id": "uK1FaOkNyQVV",
        "outputId": "eeec9203-2a84-4eab-eee7-102ec13b4f55"
      },
      "outputs": [
        {
          "data": {
            "image/png": "[encoded data removed]",
            "text/plain": [
              "<Figure size 864x432 with 1 Axes>"
            ]
          },
          "metadata": {},
          "output_type": "display_data"
        }
      ],
      "source": [
        "plt.figure(figsize=(12,6))\n",
        "keys=[\"none_discount\",\"discount\"]\n",
        "plt.pie([len(none_discount_data),len(discount_data)],labels=keys, autopct='%.0f%%')\n",
        "plt.show()"
      ]
    },
    {
      "cell_type": "code",
      "execution_count": null,
      "metadata": {
        "colab": {
          "base_uri": "https://localhost:8080/",
          "height": 516
        },
        "id": "7-3h77_wyQVV",
        "outputId": "db8342f1-21a4-40eb-b6cf-1d37b1985df1"
      },
      "outputs": [
        {
          "name": "stderr",
          "output_type": "stream",
          "text": [
            "/usr/local/lib/python3.7/dist-packages/ipykernel_launcher.py:6: SettingWithCopyWarning: \n",
            "A value is trying to be set on a copy of a slice from a DataFrame.\n",
            "Try using .loc[row_indexer,col_indexer] = value instead\n",
            "\n",
            "See the caveats in the documentation: https://pandas.pydata.org/pandas-docs/stable/user_guide/indexing.html#returning-a-view-versus-a-copy\n",
            "  \n"
          ]
        },
        {
          "data": {
            "image/png": "[encoded data removed]",
            "text/plain": [
              "<Figure size 864x432 with 2 Axes>"
            ]
          },
          "metadata": {},
          "output_type": "display_data"
        }
      ],
      "source": [
        "visual_cohort_table(create_cohort_table_first(first_discount_users))"
      ]
    },
    {
      "cell_type": "code",
      "execution_count": null,
      "metadata": {
        "colab": {
          "base_uri": "https://localhost:8080/",
          "height": 516
        },
        "id": "Dv63njVG79N2",
        "outputId": "ca0a1be4-2116-49e7-934a-ed3e3abb0c9e"
      },
      "outputs": [
        {
          "name": "stderr",
          "output_type": "stream",
          "text": [
            "/usr/local/lib/python3.7/dist-packages/ipykernel_launcher.py:6: SettingWithCopyWarning: \n",
            "A value is trying to be set on a copy of a slice from a DataFrame.\n",
            "Try using .loc[row_indexer,col_indexer] = value instead\n",
            "\n",
            "See the caveats in the documentation: https://pandas.pydata.org/pandas-docs/stable/user_guide/indexing.html#returning-a-view-versus-a-copy\n",
            "  \n"
          ]
        },
        {
          "data": {
            "image/png": "[encoded data removed]",
            "text/plain": [
              "<Figure size 864x432 with 2 Axes>"
            ]
          },
          "metadata": {},
          "output_type": "display_data"
        }
      ],
      "source": [
        "visual_cohort_table(create_cohort_table_first(first_none_discount_users))"
      ]
    },
    {
      "cell_type": "markdown",
      "metadata": {
        "id": "WR0T0eTwSjty"
      },
      "source": [
        "# **discount type**"
      ]
    },
    {
      "cell_type": "code",
      "execution_count": null,
      "metadata": {
        "id": "WJD7kSAb9QSH"
      },
      "outputs": [],
      "source": [
        "discount_type1=discount_data[discount_data[\"discount_type\"]==1]\n",
        "#first_discount_type1=discount_type1.groupby(\"user_id\")[\"created_at\"].agg('min').reset_index()\n",
        "first_discount_type1_users=data[data[\"user_id\"].isin(discount_type1[\"user_id\"])]"
      ]
    },
    {
      "cell_type": "code",
      "execution_count": null,
      "metadata": {
        "id": "YdGQMEDVTe79"
      },
      "outputs": [],
      "source": [
        "discount_type2=discount_data[discount_data[\"discount_type\"]==2]\n",
        "#first_discount_type2=discount_type2.groupby(\"user_id\")[\"created_at\"].agg('min').reset_index()\n",
        "first_discount_type2_users=data[data[\"user_id\"].isin(discount_type2[\"user_id\"])]"
      ]
    },
    {
      "cell_type": "code",
      "execution_count": null,
      "metadata": {
        "colab": {
          "base_uri": "https://localhost:8080/",
          "height": 357
        },
        "id": "2UfVeQzcTjWM",
        "outputId": "d448e0a1-b540-4840-c13c-a03a0f31949a"
      },
      "outputs": [
        {
          "data": {
            "image/png": "[encoded data removed]",
            "text/plain": [
              "<Figure size 864x432 with 1 Axes>"
            ]
          },
          "metadata": {},
          "output_type": "display_data"
        }
      ],
      "source": [
        "plt.figure(figsize=(12,6))\n",
        "keys=[\"type1\",\"type2\"]\n",
        "plt.pie([len(discount_type1),len(discount_type2)],labels=keys, autopct='%.0f%%')\n",
        "plt.show()"
      ]
    },
    {
      "cell_type": "code",
      "execution_count": null,
      "metadata": {
        "colab": {
          "base_uri": "https://localhost:8080/",
          "height": 516
        },
        "id": "17_u3jdeTvG0",
        "outputId": "ca7f9470-3f27-427a-ae19-695d156dfe9f"
      },
      "outputs": [
        {
          "name": "stderr",
          "output_type": "stream",
          "text": [
            "/usr/local/lib/python3.7/dist-packages/ipykernel_launcher.py:6: SettingWithCopyWarning: \n",
            "A value is trying to be set on a copy of a slice from a DataFrame.\n",
            "Try using .loc[row_indexer,col_indexer] = value instead\n",
            "\n",
            "See the caveats in the documentation: https://pandas.pydata.org/pandas-docs/stable/user_guide/indexing.html#returning-a-view-versus-a-copy\n",
            "  \n"
          ]
        },
        {
          "data": {
            "image/png": "[encoded data removed]",
            "text/plain": [
              "<Figure size 864x432 with 2 Axes>"
            ]
          },
          "metadata": {},
          "output_type": "display_data"
        }
      ],
      "source": [
        "visual_cohort_table(create_cohort_table_first(first_discount_type1_users))"
      ]
    },
    {
      "cell_type": "code",
      "execution_count": null,
      "metadata": {
        "colab": {
          "base_uri": "https://localhost:8080/",
          "height": 516
        },
        "id": "F3wabjefT8TB",
        "outputId": "53286bfc-c9e9-4335-b0c1-c1adb7dde98f"
      },
      "outputs": [
        {
          "name": "stderr",
          "output_type": "stream",
          "text": [
            "/usr/local/lib/python3.7/dist-packages/ipykernel_launcher.py:6: SettingWithCopyWarning: \n",
            "A value is trying to be set on a copy of a slice from a DataFrame.\n",
            "Try using .loc[row_indexer,col_indexer] = value instead\n",
            "\n",
            "See the caveats in the documentation: https://pandas.pydata.org/pandas-docs/stable/user_guide/indexing.html#returning-a-view-versus-a-copy\n",
            "  \n"
          ]
        },
        {
          "data": {
            "image/png": "[encoded data removed]",
            "text/plain": [
              "<Figure size 864x432 with 2 Axes>"
            ]
          },
          "metadata": {},
          "output_type": "display_data"
        }
      ],
      "source": [
        "visual_cohort_table(create_cohort_table_first(first_discount_type2_users))"
      ]
    },
    {
      "cell_type": "markdown",
      "metadata": {
        "id": "wekRgqPcZi2Y"
      },
      "source": [
        "# **discount price**"
      ]
    },
    {
      "cell_type": "code",
      "execution_count": null,
      "metadata": {
        "colab": {
          "base_uri": "https://localhost:8080/",
          "height": 424
        },
        "id": "vz3v6gUOXvj-",
        "outputId": "5f615eb4-ba7d-4a0c-b043-1754002c7d8d"
      },
      "outputs": [
        {
          "data": {
            "text/html": [
              "\n",
              "  <div id=\"df-5923b7c1-4605-41ae-a908-fbdae7449043\">\n",
              "    <div class=\"colab-df-container\">\n",
              "      <div>\n",
              "<style scoped>\n",
              "    .dataframe tbody tr th:only-of-type {\n",
              "        vertical-align: middle;\n",
              "    }\n",
              "\n",
              "    .dataframe tbody tr th {\n",
              "        vertical-align: top;\n",
              "    }\n",
              "\n",
              "    .dataframe thead th {\n",
              "        text-align: right;\n",
              "    }\n",
              "</style>\n",
              "<table border=\"1\" class=\"dataframe\">\n",
              "  <thead>\n",
              "    <tr style=\"text-align: right;\">\n",
              "      <th></th>\n",
              "      <th>user_id</th>\n",
              "      <th>created_at</th>\n",
              "      <th>order_id</th>\n",
              "      <th>discount_cost</th>\n",
              "      <th>discount_type</th>\n",
              "      <th>basket</th>\n",
              "      <th>month</th>\n",
              "      <th>cohort month</th>\n",
              "    </tr>\n",
              "  </thead>\n",
              "  <tbody>\n",
              "    <tr>\n",
              "      <th>0</th>\n",
              "      <td>1</td>\n",
              "      <td>2021-04-12</td>\n",
              "      <td>1</td>\n",
              "      <td>10000</td>\n",
              "      <td>1.0</td>\n",
              "      <td>12000</td>\n",
              "      <td>2021-04-01</td>\n",
              "      <td>2021-04-01</td>\n",
              "    </tr>\n",
              "    <tr>\n",
              "      <th>2</th>\n",
              "      <td>3</td>\n",
              "      <td>2021-05-09</td>\n",
              "      <td>3</td>\n",
              "      <td>10000</td>\n",
              "      <td>1.0</td>\n",
              "      <td>14000</td>\n",
              "      <td>2021-05-01</td>\n",
              "      <td>2021-05-01</td>\n",
              "    </tr>\n",
              "    <tr>\n",
              "      <th>4</th>\n",
              "      <td>5</td>\n",
              "      <td>2021-11-10</td>\n",
              "      <td>5</td>\n",
              "      <td>10000</td>\n",
              "      <td>1.0</td>\n",
              "      <td>16000</td>\n",
              "      <td>2021-11-01</td>\n",
              "      <td>2021-11-01</td>\n",
              "    </tr>\n",
              "    <tr>\n",
              "      <th>7</th>\n",
              "      <td>8</td>\n",
              "      <td>2022-01-01</td>\n",
              "      <td>8</td>\n",
              "      <td>10000</td>\n",
              "      <td>1.0</td>\n",
              "      <td>10000</td>\n",
              "      <td>2022-01-01</td>\n",
              "      <td>2022-01-01</td>\n",
              "    </tr>\n",
              "    <tr>\n",
              "      <th>10</th>\n",
              "      <td>11</td>\n",
              "      <td>2022-01-01</td>\n",
              "      <td>11</td>\n",
              "      <td>15000</td>\n",
              "      <td>1.0</td>\n",
              "      <td>21000</td>\n",
              "      <td>2022-01-01</td>\n",
              "      <td>2022-01-01</td>\n",
              "    </tr>\n",
              "    <tr>\n",
              "      <th>...</th>\n",
              "      <td>...</td>\n",
              "      <td>...</td>\n",
              "      <td>...</td>\n",
              "      <td>...</td>\n",
              "      <td>...</td>\n",
              "      <td>...</td>\n",
              "      <td>...</td>\n",
              "      <td>...</td>\n",
              "    </tr>\n",
              "    <tr>\n",
              "      <th>10083</th>\n",
              "      <td>9970</td>\n",
              "      <td>2022-07-31</td>\n",
              "      <td>28969</td>\n",
              "      <td>15000</td>\n",
              "      <td>1.0</td>\n",
              "      <td>20000</td>\n",
              "      <td>2022-07-01</td>\n",
              "      <td>2022-07-01</td>\n",
              "    </tr>\n",
              "    <tr>\n",
              "      <th>10084</th>\n",
              "      <td>9971</td>\n",
              "      <td>2022-07-31</td>\n",
              "      <td>28971</td>\n",
              "      <td>15000</td>\n",
              "      <td>1.0</td>\n",
              "      <td>15000</td>\n",
              "      <td>2022-07-01</td>\n",
              "      <td>2022-07-01</td>\n",
              "    </tr>\n",
              "    <tr>\n",
              "      <th>10087</th>\n",
              "      <td>9974</td>\n",
              "      <td>2022-07-31</td>\n",
              "      <td>28986</td>\n",
              "      <td>10000</td>\n",
              "      <td>1.0</td>\n",
              "      <td>20000</td>\n",
              "      <td>2022-07-01</td>\n",
              "      <td>2022-07-01</td>\n",
              "    </tr>\n",
              "    <tr>\n",
              "      <th>10091</th>\n",
              "      <td>9978</td>\n",
              "      <td>2022-07-31</td>\n",
              "      <td>29023</td>\n",
              "      <td>10000</td>\n",
              "      <td>1.0</td>\n",
              "      <td>24000</td>\n",
              "      <td>2022-07-01</td>\n",
              "      <td>2022-07-01</td>\n",
              "    </tr>\n",
              "    <tr>\n",
              "      <th>10094</th>\n",
              "      <td>9981</td>\n",
              "      <td>2022-07-31</td>\n",
              "      <td>29031</td>\n",
              "      <td>10000</td>\n",
              "      <td>1.0</td>\n",
              "      <td>24000</td>\n",
              "      <td>2022-07-01</td>\n",
              "      <td>2022-07-01</td>\n",
              "    </tr>\n",
              "  </tbody>\n",
              "</table>\n",
              "<p>4375 rows × 8 columns</p>\n",
              "</div>\n",
              "      <button class=\"colab-df-convert\" onclick=\"convertToInteractive('df-5923b7c1-4605-41ae-a908-fbdae7449043')\"\n",
              "              title=\"Convert this dataframe to an interactive table.\"\n",
              "              style=\"display:none;\">\n",
              "        \n",
              "  <svg xmlns=\"http://www.w3.org/2000/svg\" height=\"24px\"viewBox=\"0 0 24 24\"\n",
              "       width=\"24px\">\n",
              "    <path d=\"M0 0h24v24H0V0z\" fill=\"none\"/>\n",
              "    <path d=\"M18.56 5.44l.94 2.06.94-2.06 2.06-.94-2.06-.94-.94-2.06-.94 2.06-2.06.94zm-11 1L8.5 8.5l.94-2.06 2.06-.94-2.06-.94L8.5 2.5l-.94 2.06-2.06.94zm10 10l.94 2.06.94-2.06 2.06-.94-2.06-.94-.94-2.06-.94 2.06-2.06.94z\"/><path d=\"M17.41 7.96l-1.37-1.37c-.4-.4-.92-.59-1.43-.59-.52 0-1.04.2-1.43.59L10.3 9.45l-7.72 7.72c-.78.78-.78 2.05 0 2.83L4 21.41c.39.39.9.59 1.41.59.51 0 1.02-.2 1.41-.59l7.78-7.78 2.81-2.81c.8-.78.8-2.07 0-2.86zM5.41 20L4 18.59l7.72-7.72 1.47 1.35L5.41 20z\"/>\n",
              "  </svg>\n",
              "      </button>\n",
              "      \n",
              "  <style>\n",
              "    .colab-df-container {\n",
              "      display:flex;\n",
              "      flex-wrap:wrap;\n",
              "      gap: 12px;\n",
              "    }\n",
              "\n",
              "    .colab-df-convert {\n",
              "      background-color: #E8F0FE;\n",
              "      border: none;\n",
              "      border-radius: 50%;\n",
              "      cursor: pointer;\n",
              "      display: none;\n",
              "      fill: #1967D2;\n",
              "      height: 32px;\n",
              "      padding: 0 0 0 0;\n",
              "      width: 32px;\n",
              "    }\n",
              "\n",
              "    .colab-df-convert:hover {\n",
              "      background-color: #E2EBFA;\n",
              "      box-shadow: 0px 1px 2px rgba(60, 64, 67, 0.3), 0px 1px 3px 1px rgba(60, 64, 67, 0.15);\n",
              "      fill: #174EA6;\n",
              "    }\n",
              "\n",
              "    [theme=dark] .colab-df-convert {\n",
              "      background-color: #3B4455;\n",
              "      fill: #D2E3FC;\n",
              "    }\n",
              "\n",
              "    [theme=dark] .colab-df-convert:hover {\n",
              "      background-color: #434B5C;\n",
              "      box-shadow: 0px 1px 3px 1px rgba(0, 0, 0, 0.15);\n",
              "      filter: drop-shadow(0px 1px 2px rgba(0, 0, 0, 0.3));\n",
              "      fill: #FFFFFF;\n",
              "    }\n",
              "  </style>\n",
              "\n",
              "      <script>\n",
              "        const buttonEl =\n",
              "          document.querySelector('#df-5923b7c1-4605-41ae-a908-fbdae7449043 button.colab-df-convert');\n",
              "        buttonEl.style.display =\n",
              "          google.colab.kernel.accessAllowed ? 'block' : 'none';\n",
              "\n",
              "        async function convertToInteractive(key) {\n",
              "          const element = document.querySelector('#df-5923b7c1-4605-41ae-a908-fbdae7449043');\n",
              "          const dataTable =\n",
              "            await google.colab.kernel.invokeFunction('convertToInteractive',\n",
              "                                                     [key], {});\n",
              "          if (!dataTable) return;\n",
              "\n",
              "          const docLinkHtml = 'Like what you see? Visit the ' +\n",
              "            '<a target=\"_blank\" href=https://colab.research.google.com/notebooks/data_table.ipynb>data table notebook</a>'\n",
              "            + ' to learn more about interactive tables.';\n",
              "          element.innerHTML = '';\n",
              "          dataTable['output_type'] = 'display_data';\n",
              "          await google.colab.output.renderOutput(dataTable, element);\n",
              "          const docLink = document.createElement('div');\n",
              "          docLink.innerHTML = docLinkHtml;\n",
              "          element.appendChild(docLink);\n",
              "        }\n",
              "      </script>\n",
              "    </div>\n",
              "  </div>\n",
              "  "
            ],
            "text/plain": [
              "       user_id  created_at  order_id  discount_cost  discount_type  basket  \\\n",
              "0            1  2021-04-12         1          10000            1.0   12000   \n",
              "2            3  2021-05-09         3          10000            1.0   14000   \n",
              "4            5  2021-11-10         5          10000            1.0   16000   \n",
              "7            8  2022-01-01         8          10000            1.0   10000   \n",
              "10          11  2022-01-01        11          15000            1.0   21000   \n",
              "...        ...         ...       ...            ...            ...     ...   \n",
              "10083     9970  2022-07-31     28969          15000            1.0   20000   \n",
              "10084     9971  2022-07-31     28971          15000            1.0   15000   \n",
              "10087     9974  2022-07-31     28986          10000            1.0   20000   \n",
              "10091     9978  2022-07-31     29023          10000            1.0   24000   \n",
              "10094     9981  2022-07-31     29031          10000            1.0   24000   \n",
              "\n",
              "           month cohort month  \n",
              "0     2021-04-01   2021-04-01  \n",
              "2     2021-05-01   2021-05-01  \n",
              "4     2021-11-01   2021-11-01  \n",
              "7     2022-01-01   2022-01-01  \n",
              "10    2022-01-01   2022-01-01  \n",
              "...          ...          ...  \n",
              "10083 2022-07-01   2022-07-01  \n",
              "10084 2022-07-01   2022-07-01  \n",
              "10087 2022-07-01   2022-07-01  \n",
              "10091 2022-07-01   2022-07-01  \n",
              "10094 2022-07-01   2022-07-01  \n",
              "\n",
              "[4375 rows x 8 columns]"
            ]
          },
          "execution_count": 354,
          "metadata": {},
          "output_type": "execute_result"
        }
      ],
      "source": [
        "discount_data"
      ]
    },
    {
      "cell_type": "code",
      "execution_count": null,
      "metadata": {
        "colab": {
          "base_uri": "https://localhost:8080/"
        },
        "id": "ww6HyoJOZ0LF",
        "outputId": "409824da-363e-4d22-cf21-c0ca4d4cd2e2"
      },
      "outputs": [
        {
          "name": "stderr",
          "output_type": "stream",
          "text": [
            "/usr/local/lib/python3.7/dist-packages/ipykernel_launcher.py:1: SettingWithCopyWarning: \n",
            "A value is trying to be set on a copy of a slice from a DataFrame.\n",
            "Try using .loc[row_indexer,col_indexer] = value instead\n",
            "\n",
            "See the caveats in the documentation: https://pandas.pydata.org/pandas-docs/stable/user_guide/indexing.html#returning-a-view-versus-a-copy\n",
            "  \"\"\"Entry point for launching an IPython kernel.\n"
          ]
        }
      ],
      "source": [
        "discount_data[\"discount index\"]=discount_data[\"discount_cost\"]//5000 "
      ]
    },
    {
      "cell_type": "code",
      "execution_count": null,
      "metadata": {
        "id": "FnARNn8wao8r"
      },
      "outputs": [],
      "source": [
        "discount_price_counts=discount_data.groupby(\"discount index\")[\"user_id\"].agg(count).reset_index()"
      ]
    },
    {
      "cell_type": "code",
      "execution_count": null,
      "metadata": {
        "id": "Zr78oI80V8rN"
      },
      "outputs": [],
      "source": [
        "sorted_discount=discount_price_counts.sort_values(by=[\"user_id\"],ascending=False)"
      ]
    },
    {
      "cell_type": "code",
      "execution_count": null,
      "metadata": {
        "colab": {
          "base_uri": "https://localhost:8080/",
          "height": 300
        },
        "id": "9_NdSba5YAFs",
        "outputId": "ba3bf1a3-4380-478a-c7de-e30bcd31b02f"
      },
      "outputs": [
        {
          "data": {
            "text/html": [
              "\n",
              "  <div id=\"df-f4b69e2d-d5a8-407a-b4da-dd367d0276a6\">\n",
              "    <div class=\"colab-df-container\">\n",
              "      <div>\n",
              "<style scoped>\n",
              "    .dataframe tbody tr th:only-of-type {\n",
              "        vertical-align: middle;\n",
              "    }\n",
              "\n",
              "    .dataframe tbody tr th {\n",
              "        vertical-align: top;\n",
              "    }\n",
              "\n",
              "    .dataframe thead th {\n",
              "        text-align: right;\n",
              "    }\n",
              "</style>\n",
              "<table border=\"1\" class=\"dataframe\">\n",
              "  <thead>\n",
              "    <tr style=\"text-align: right;\">\n",
              "      <th></th>\n",
              "      <th>discount index</th>\n",
              "      <th>user_id</th>\n",
              "    </tr>\n",
              "  </thead>\n",
              "  <tbody>\n",
              "    <tr>\n",
              "      <th>2</th>\n",
              "      <td>2</td>\n",
              "      <td>2904</td>\n",
              "    </tr>\n",
              "    <tr>\n",
              "      <th>3</th>\n",
              "      <td>3</td>\n",
              "      <td>1232</td>\n",
              "    </tr>\n",
              "    <tr>\n",
              "      <th>1</th>\n",
              "      <td>1</td>\n",
              "      <td>193</td>\n",
              "    </tr>\n",
              "    <tr>\n",
              "      <th>0</th>\n",
              "      <td>0</td>\n",
              "      <td>28</td>\n",
              "    </tr>\n",
              "    <tr>\n",
              "      <th>4</th>\n",
              "      <td>4</td>\n",
              "      <td>11</td>\n",
              "    </tr>\n",
              "    <tr>\n",
              "      <th>6</th>\n",
              "      <td>7</td>\n",
              "      <td>3</td>\n",
              "    </tr>\n",
              "    <tr>\n",
              "      <th>5</th>\n",
              "      <td>5</td>\n",
              "      <td>2</td>\n",
              "    </tr>\n",
              "    <tr>\n",
              "      <th>7</th>\n",
              "      <td>8</td>\n",
              "      <td>2</td>\n",
              "    </tr>\n",
              "  </tbody>\n",
              "</table>\n",
              "</div>\n",
              "      <button class=\"colab-df-convert\" onclick=\"convertToInteractive('df-f4b69e2d-d5a8-407a-b4da-dd367d0276a6')\"\n",
              "              title=\"Convert this dataframe to an interactive table.\"\n",
              "              style=\"display:none;\">\n",
              "        \n",
              "  <svg xmlns=\"http://www.w3.org/2000/svg\" height=\"24px\"viewBox=\"0 0 24 24\"\n",
              "       width=\"24px\">\n",
              "    <path d=\"M0 0h24v24H0V0z\" fill=\"none\"/>\n",
              "    <path d=\"M18.56 5.44l.94 2.06.94-2.06 2.06-.94-2.06-.94-.94-2.06-.94 2.06-2.06.94zm-11 1L8.5 8.5l.94-2.06 2.06-.94-2.06-.94L8.5 2.5l-.94 2.06-2.06.94zm10 10l.94 2.06.94-2.06 2.06-.94-2.06-.94-.94-2.06-.94 2.06-2.06.94z\"/><path d=\"M17.41 7.96l-1.37-1.37c-.4-.4-.92-.59-1.43-.59-.52 0-1.04.2-1.43.59L10.3 9.45l-7.72 7.72c-.78.78-.78 2.05 0 2.83L4 21.41c.39.39.9.59 1.41.59.51 0 1.02-.2 1.41-.59l7.78-7.78 2.81-2.81c.8-.78.8-2.07 0-2.86zM5.41 20L4 18.59l7.72-7.72 1.47 1.35L5.41 20z\"/>\n",
              "  </svg>\n",
              "      </button>\n",
              "      \n",
              "  <style>\n",
              "    .colab-df-container {\n",
              "      display:flex;\n",
              "      flex-wrap:wrap;\n",
              "      gap: 12px;\n",
              "    }\n",
              "\n",
              "    .colab-df-convert {\n",
              "      background-color: #E8F0FE;\n",
              "      border: none;\n",
              "      border-radius: 50%;\n",
              "      cursor: pointer;\n",
              "      display: none;\n",
              "      fill: #1967D2;\n",
              "      height: 32px;\n",
              "      padding: 0 0 0 0;\n",
              "      width: 32px;\n",
              "    }\n",
              "\n",
              "    .colab-df-convert:hover {\n",
              "      background-color: #E2EBFA;\n",
              "      box-shadow: 0px 1px 2px rgba(60, 64, 67, 0.3), 0px 1px 3px 1px rgba(60, 64, 67, 0.15);\n",
              "      fill: #174EA6;\n",
              "    }\n",
              "\n",
              "    [theme=dark] .colab-df-convert {\n",
              "      background-color: #3B4455;\n",
              "      fill: #D2E3FC;\n",
              "    }\n",
              "\n",
              "    [theme=dark] .colab-df-convert:hover {\n",
              "      background-color: #434B5C;\n",
              "      box-shadow: 0px 1px 3px 1px rgba(0, 0, 0, 0.15);\n",
              "      filter: drop-shadow(0px 1px 2px rgba(0, 0, 0, 0.3));\n",
              "      fill: #FFFFFF;\n",
              "    }\n",
              "  </style>\n",
              "\n",
              "      <script>\n",
              "        const buttonEl =\n",
              "          document.querySelector('#df-f4b69e2d-d5a8-407a-b4da-dd367d0276a6 button.colab-df-convert');\n",
              "        buttonEl.style.display =\n",
              "          google.colab.kernel.accessAllowed ? 'block' : 'none';\n",
              "\n",
              "        async function convertToInteractive(key) {\n",
              "          const element = document.querySelector('#df-f4b69e2d-d5a8-407a-b4da-dd367d0276a6');\n",
              "          const dataTable =\n",
              "            await google.colab.kernel.invokeFunction('convertToInteractive',\n",
              "                                                     [key], {});\n",
              "          if (!dataTable) return;\n",
              "\n",
              "          const docLinkHtml = 'Like what you see? Visit the ' +\n",
              "            '<a target=\"_blank\" href=https://colab.research.google.com/notebooks/data_table.ipynb>data table notebook</a>'\n",
              "            + ' to learn more about interactive tables.';\n",
              "          element.innerHTML = '';\n",
              "          dataTable['output_type'] = 'display_data';\n",
              "          await google.colab.output.renderOutput(dataTable, element);\n",
              "          const docLink = document.createElement('div');\n",
              "          docLink.innerHTML = docLinkHtml;\n",
              "          element.appendChild(docLink);\n",
              "        }\n",
              "      </script>\n",
              "    </div>\n",
              "  </div>\n",
              "  "
            ],
            "text/plain": [
              "   discount index  user_id\n",
              "2               2     2904\n",
              "3               3     1232\n",
              "1               1      193\n",
              "0               0       28\n",
              "4               4       11\n",
              "6               7        3\n",
              "5               5        2\n",
              "7               8        2"
            ]
          },
          "execution_count": 358,
          "metadata": {},
          "output_type": "execute_result"
        }
      ],
      "source": [
        "sorted_discount"
      ]
    },
    {
      "cell_type": "code",
      "execution_count": null,
      "metadata": {
        "colab": {
          "base_uri": "https://localhost:8080/",
          "height": 414
        },
        "id": "zjYdTO2HVBlJ",
        "outputId": "f9f72593-dec8-43c0-8130-d22929a873d6"
      },
      "outputs": [
        {
          "data": {
            "text/plain": [
              "Text(0, 0.5, 'Order count')"
            ]
          },
          "execution_count": 359,
          "metadata": {},
          "output_type": "execute_result"
        },
        {
          "data": {
            "image/png": "[encoded data removed]",
            "text/plain": [
              "<Figure size 864x432 with 1 Axes>"
            ]
          },
          "metadata": {},
          "output_type": "display_data"
        }
      ],
      "source": [
        "plt.figure(figsize=(12,6))\n",
        "p=sns.barplot(x=sorted_discount[\"discount index\"].values ,y=sorted_discount[\"user_id\"].values)\n",
        "p.set_xticklabels(['0-5000','5000-10000','10000-15000','15000-20000','20000-25000','25000-30000','30000-35000',\"35000-40000\"])\n",
        "p.set_xlabel(\" discount prices\", fontsize = 20)\n",
        "p.set_ylabel(\"Order count\", fontsize = 20)\n"
      ]
    },
    {
      "cell_type": "code",
      "execution_count": null,
      "metadata": {
        "colab": {
          "base_uri": "https://localhost:8080/"
        },
        "id": "y_JloEtJcVyf",
        "outputId": "acdfdc72-4047-4e29-e7a0-bcee2ff5654b"
      },
      "outputs": [
        {
          "name": "stderr",
          "output_type": "stream",
          "text": [
            "/usr/local/lib/python3.7/dist-packages/ipykernel_launcher.py:1: SettingWithCopyWarning: \n",
            "A value is trying to be set on a copy of a slice from a DataFrame.\n",
            "Try using .loc[row_indexer,col_indexer] = value instead\n",
            "\n",
            "See the caveats in the documentation: https://pandas.pydata.org/pandas-docs/stable/user_guide/indexing.html#returning-a-view-versus-a-copy\n",
            "  \"\"\"Entry point for launching an IPython kernel.\n"
          ]
        }
      ],
      "source": [
        "discount_data[\"discount percentage index\"]=((discount_data[\"discount_cost\"]/(discount_data[\"basket\"]+discount_data[\"discount_cost\"]))*100)//10"
      ]
    },
    {
      "cell_type": "code",
      "execution_count": null,
      "metadata": {
        "id": "p8Y2fBkHbUDj"
      },
      "outputs": [],
      "source": [
        "discount_price_counts=discount_data.groupby(\"discount percentage index\")[\"user_id\"].agg(count).reset_index()"
      ]
    },
    {
      "cell_type": "code",
      "execution_count": null,
      "metadata": {
        "id": "yGUtBwOXbUDk"
      },
      "outputs": [],
      "source": [
        "sorted_discount=discount_price_counts.sort_values(by=[\"user_id\"],ascending=False)"
      ]
    },
    {
      "cell_type": "code",
      "execution_count": null,
      "metadata": {
        "colab": {
          "base_uri": "https://localhost:8080/",
          "height": 269
        },
        "id": "uTIpMN-kbUDk",
        "outputId": "5d932f6e-9a41-4773-9495-828c572b0d66"
      },
      "outputs": [
        {
          "data": {
            "text/html": [
              "\n",
              "  <div id=\"df-31d19404-2d10-4feb-afc3-7a5b2b476d27\">\n",
              "    <div class=\"colab-df-container\">\n",
              "      <div>\n",
              "<style scoped>\n",
              "    .dataframe tbody tr th:only-of-type {\n",
              "        vertical-align: middle;\n",
              "    }\n",
              "\n",
              "    .dataframe tbody tr th {\n",
              "        vertical-align: top;\n",
              "    }\n",
              "\n",
              "    .dataframe thead th {\n",
              "        text-align: right;\n",
              "    }\n",
              "</style>\n",
              "<table border=\"1\" class=\"dataframe\">\n",
              "  <thead>\n",
              "    <tr style=\"text-align: right;\">\n",
              "      <th></th>\n",
              "      <th>discount percentage index</th>\n",
              "      <th>user_id</th>\n",
              "    </tr>\n",
              "  </thead>\n",
              "  <tbody>\n",
              "    <tr>\n",
              "      <th>4</th>\n",
              "      <td>4.0</td>\n",
              "      <td>1299</td>\n",
              "    </tr>\n",
              "    <tr>\n",
              "      <th>3</th>\n",
              "      <td>3.0</td>\n",
              "      <td>1077</td>\n",
              "    </tr>\n",
              "    <tr>\n",
              "      <th>5</th>\n",
              "      <td>5.0</td>\n",
              "      <td>823</td>\n",
              "    </tr>\n",
              "    <tr>\n",
              "      <th>2</th>\n",
              "      <td>2.0</td>\n",
              "      <td>703</td>\n",
              "    </tr>\n",
              "    <tr>\n",
              "      <th>6</th>\n",
              "      <td>6.0</td>\n",
              "      <td>259</td>\n",
              "    </tr>\n",
              "    <tr>\n",
              "      <th>1</th>\n",
              "      <td>1.0</td>\n",
              "      <td>198</td>\n",
              "    </tr>\n",
              "    <tr>\n",
              "      <th>0</th>\n",
              "      <td>0.0</td>\n",
              "      <td>16</td>\n",
              "    </tr>\n",
              "  </tbody>\n",
              "</table>\n",
              "</div>\n",
              "      <button class=\"colab-df-convert\" onclick=\"convertToInteractive('df-31d19404-2d10-4feb-afc3-7a5b2b476d27')\"\n",
              "              title=\"Convert this dataframe to an interactive table.\"\n",
              "              style=\"display:none;\">\n",
              "        \n",
              "  <svg xmlns=\"http://www.w3.org/2000/svg\" height=\"24px\"viewBox=\"0 0 24 24\"\n",
              "       width=\"24px\">\n",
              "    <path d=\"M0 0h24v24H0V0z\" fill=\"none\"/>\n",
              "    <path d=\"M18.56 5.44l.94 2.06.94-2.06 2.06-.94-2.06-.94-.94-2.06-.94 2.06-2.06.94zm-11 1L8.5 8.5l.94-2.06 2.06-.94-2.06-.94L8.5 2.5l-.94 2.06-2.06.94zm10 10l.94 2.06.94-2.06 2.06-.94-2.06-.94-.94-2.06-.94 2.06-2.06.94z\"/><path d=\"M17.41 7.96l-1.37-1.37c-.4-.4-.92-.59-1.43-.59-.52 0-1.04.2-1.43.59L10.3 9.45l-7.72 7.72c-.78.78-.78 2.05 0 2.83L4 21.41c.39.39.9.59 1.41.59.51 0 1.02-.2 1.41-.59l7.78-7.78 2.81-2.81c.8-.78.8-2.07 0-2.86zM5.41 20L4 18.59l7.72-7.72 1.47 1.35L5.41 20z\"/>\n",
              "  </svg>\n",
              "      </button>\n",
              "      \n",
              "  <style>\n",
              "    .colab-df-container {\n",
              "      display:flex;\n",
              "      flex-wrap:wrap;\n",
              "      gap: 12px;\n",
              "    }\n",
              "\n",
              "    .colab-df-convert {\n",
              "      background-color: #E8F0FE;\n",
              "      border: none;\n",
              "      border-radius: 50%;\n",
              "      cursor: pointer;\n",
              "      display: none;\n",
              "      fill: #1967D2;\n",
              "      height: 32px;\n",
              "      padding: 0 0 0 0;\n",
              "      width: 32px;\n",
              "    }\n",
              "\n",
              "    .colab-df-convert:hover {\n",
              "      background-color: #E2EBFA;\n",
              "      box-shadow: 0px 1px 2px rgba(60, 64, 67, 0.3), 0px 1px 3px 1px rgba(60, 64, 67, 0.15);\n",
              "      fill: #174EA6;\n",
              "    }\n",
              "\n",
              "    [theme=dark] .colab-df-convert {\n",
              "      background-color: #3B4455;\n",
              "      fill: #D2E3FC;\n",
              "    }\n",
              "\n",
              "    [theme=dark] .colab-df-convert:hover {\n",
              "      background-color: #434B5C;\n",
              "      box-shadow: 0px 1px 3px 1px rgba(0, 0, 0, 0.15);\n",
              "      filter: drop-shadow(0px 1px 2px rgba(0, 0, 0, 0.3));\n",
              "      fill: #FFFFFF;\n",
              "    }\n",
              "  </style>\n",
              "\n",
              "      <script>\n",
              "        const buttonEl =\n",
              "          document.querySelector('#df-31d19404-2d10-4feb-afc3-7a5b2b476d27 button.colab-df-convert');\n",
              "        buttonEl.style.display =\n",
              "          google.colab.kernel.accessAllowed ? 'block' : 'none';\n",
              "\n",
              "        async function convertToInteractive(key) {\n",
              "          const element = document.querySelector('#df-31d19404-2d10-4feb-afc3-7a5b2b476d27');\n",
              "          const dataTable =\n",
              "            await google.colab.kernel.invokeFunction('convertToInteractive',\n",
              "                                                     [key], {});\n",
              "          if (!dataTable) return;\n",
              "\n",
              "          const docLinkHtml = 'Like what you see? Visit the ' +\n",
              "            '<a target=\"_blank\" href=https://colab.research.google.com/notebooks/data_table.ipynb>data table notebook</a>'\n",
              "            + ' to learn more about interactive tables.';\n",
              "          element.innerHTML = '';\n",
              "          dataTable['output_type'] = 'display_data';\n",
              "          await google.colab.output.renderOutput(dataTable, element);\n",
              "          const docLink = document.createElement('div');\n",
              "          docLink.innerHTML = docLinkHtml;\n",
              "          element.appendChild(docLink);\n",
              "        }\n",
              "      </script>\n",
              "    </div>\n",
              "  </div>\n",
              "  "
            ],
            "text/plain": [
              "   discount percentage index  user_id\n",
              "4                        4.0     1299\n",
              "3                        3.0     1077\n",
              "5                        5.0      823\n",
              "2                        2.0      703\n",
              "6                        6.0      259\n",
              "1                        1.0      198\n",
              "0                        0.0       16"
            ]
          },
          "execution_count": 364,
          "metadata": {},
          "output_type": "execute_result"
        }
      ],
      "source": [
        "sorted_discount"
      ]
    },
    {
      "cell_type": "code",
      "execution_count": null,
      "metadata": {
        "colab": {
          "base_uri": "https://localhost:8080/",
          "height": 414
        },
        "id": "wHiIbGyZYmPG",
        "outputId": "fe7edd75-96a8-40cb-ffdb-f4ec649c26c0"
      },
      "outputs": [
        {
          "data": {
            "text/plain": [
              "Text(0, 0.5, 'Order count')"
            ]
          },
          "execution_count": 365,
          "metadata": {},
          "output_type": "execute_result"
        },
        {
          "data": {
            "image/png": "[encoded data removed]",
            "text/plain": [
              "<Figure size 864x432 with 1 Axes>"
            ]
          },
          "metadata": {},
          "output_type": "display_data"
        }
      ],
      "source": [
        "plt.figure(figsize=(12,6))\n",
        "p=sns.barplot(x=sorted_discount[\"discount percentage index\"].values ,y=sorted_discount[\"user_id\"].values)\n",
        "p.set_xticklabels(['0-10%','10%-20%','20%-30%','30%-40%','40%-50%','50%-60%','60%-70%',])\n",
        "p.set_xlabel(\"discount percentage\", fontsize = 20)\n",
        "p.set_ylabel(\"Order count\", fontsize = 20)\n"
      ]
    },
    {
      "cell_type": "code",
      "execution_count": null,
      "metadata": {
        "id": "tohKPbggYmIP"
      },
      "outputs": [],
      "source": [
        "avg_discount_prices=sum(discount_data[\"basket\"].values)"
      ]
    },
    {
      "cell_type": "code",
      "execution_count": null,
      "metadata": {
        "id": "5KgzQe48YmGH"
      },
      "outputs": [],
      "source": [
        "avg_none_discount_prices=sum(none_discount_data[\"basket\"].values)"
      ]
    },
    {
      "cell_type": "code",
      "execution_count": null,
      "metadata": {
        "colab": {
          "base_uri": "https://localhost:8080/",
          "height": 425
        },
        "id": "bzEjC_qmYmB0",
        "outputId": "bbaa8a8f-9e6d-46ef-8271-b0cab93a876f"
      },
      "outputs": [
        {
          "data": {
            "text/plain": [
              "Text(0, 0.5, 'Revenue')"
            ]
          },
          "execution_count": 376,
          "metadata": {},
          "output_type": "execute_result"
        },
        {
          "data": {
            "image/png": "[encoded data removed]",
            "text/plain": [
              "<Figure size 864x432 with 1 Axes>"
            ]
          },
          "metadata": {},
          "output_type": "display_data"
        }
      ],
      "source": [
        "plt.figure(figsize=(12,6))\n",
        "p=sns.barplot(x=[\"revenue with discount\",\"revenue without discount\"],y=[avg_discount_prices,avg_none_discount_prices])\n",
        "p.set_xlabel(\"Revenue Type\", fontsize = 20)\n",
        "p.set_ylabel(\"Revenue\", fontsize = 20)\n"
      ]
    },
    {
      "cell_type": "markdown",
      "metadata": {
        "id": "UqPQ_0FbtGrO"
      },
      "source": [
        "# **customer purchase latency**"
      ]
    },
    {
      "cell_type": "code",
      "execution_count": null,
      "metadata": {
        "id": "oWwI_zfP7pRC"
      },
      "outputs": [],
      "source": [
        "def get_next_value(df, group, column):\n",
        "    df = df.copy()\n",
        "    return df.groupby([group])[column].shift(1)"
      ]
    },
    {
      "cell_type": "code",
      "execution_count": null,
      "metadata": {
        "id": "uDfUiiiuGGkL",
        "outputId": "a5f0f26d-4c91-4586-b552-1c6712a8f78b",
        "colab": {
          "base_uri": "https://localhost:8080/",
          "height": 352
        }
      },
      "outputs": [
        {
          "output_type": "error",
          "ename": "NameError",
          "evalue": "ignored",
          "traceback": [
            "\u001b[0;31m---------------------------------------------------------------------------\u001b[0m",
            "\u001b[0;31mNameError\u001b[0m                                 Traceback (most recent call last)",
            "\u001b[0;32m<ipython-input-2-3872130502ff>\u001b[0m in \u001b[0;36m<module>\u001b[0;34m\u001b[0m\n\u001b[0;32m----> 1\u001b[0;31m \u001b[0mdf_orders\u001b[0m \u001b[0;34m=\u001b[0m \u001b[0mdata\u001b[0m\u001b[0;34m.\u001b[0m\u001b[0msort_values\u001b[0m\u001b[0;34m(\u001b[0m\u001b[0mby\u001b[0m\u001b[0;34m=\u001b[0m\u001b[0;34m[\u001b[0m\u001b[0;34m'created_at'\u001b[0m\u001b[0;34m]\u001b[0m\u001b[0;34m,\u001b[0m \u001b[0mascending\u001b[0m\u001b[0;34m=\u001b[0m\u001b[0;32mFalse\u001b[0m\u001b[0;34m)\u001b[0m\u001b[0;34m\u001b[0m\u001b[0;34m\u001b[0m\u001b[0m\n\u001b[0m\u001b[1;32m      2\u001b[0m \u001b[0mdf_orders\u001b[0m\u001b[0;34m[\u001b[0m\u001b[0;34m'next_order_date_0'\u001b[0m\u001b[0;34m]\u001b[0m \u001b[0;34m=\u001b[0m \u001b[0mget_next_value\u001b[0m\u001b[0;34m(\u001b[0m\u001b[0mdf_orders\u001b[0m\u001b[0;34m,\u001b[0m \u001b[0;34m'user_id'\u001b[0m\u001b[0;34m,\u001b[0m \u001b[0;34m'created_at'\u001b[0m\u001b[0;34m)\u001b[0m\u001b[0;34m\u001b[0m\u001b[0;34m\u001b[0m\u001b[0m\n",
            "\u001b[0;31mNameError\u001b[0m: name 'data' is not defined"
          ]
        }
      ],
      "source": [
        "df_orders = data.sort_values(by=['created_at'], ascending=False)\n",
        "df_orders['next_order_date_0'] = get_next_value(df_orders, 'user_id', 'created_at')"
      ]
    },
    {
      "cell_type": "code",
      "execution_count": null,
      "metadata": {
        "id": "uTVQVi1XHhFj"
      },
      "outputs": [],
      "source": [
        "for i in range(9):\n",
        "  df_orders['next_order_date_'+str(i+1)] = get_next_value(df_orders, 'user_id', 'next_order_date_'+str(i))"
      ]
    },
    {
      "cell_type": "code",
      "execution_count": null,
      "metadata": {
        "id": "qAzWUkIl8l9v"
      },
      "outputs": [],
      "source": [
        "def get_days_since_date(df, before_datetime, after_datetime):\n",
        "    df = df.copy()\n",
        "    df[before_datetime] = pd.to_datetime(df[before_datetime])\n",
        "    df[after_datetime] = pd.to_datetime(df[after_datetime])\n",
        "    diff = df[after_datetime] - df[before_datetime]\n",
        "    return round(diff / np.timedelta64(1, 'D')).fillna(0).astype(int)"
      ]
    },
    {
      "cell_type": "code",
      "execution_count": null,
      "metadata": {
        "id": "YArR3CpN9PT6"
      },
      "outputs": [],
      "source": [
        "df_orders['days_since_prev_order_0'] = get_days_since_date(df_orders, 'created_at', 'next_order_date_0')"
      ]
    },
    {
      "cell_type": "code",
      "execution_count": null,
      "metadata": {
        "id": "47rMDwKV9b7N"
      },
      "outputs": [],
      "source": [
        "for i in range(9):\n",
        "  df_orders['days_since_prev_order_'+str(i+1)] = get_days_since_date(df_orders, 'next_order_date_'+str(i), 'next_order_date_'+str(i+1))"
      ]
    },
    {
      "cell_type": "code",
      "execution_count": null,
      "metadata": {
        "id": "c4VR7yNl-Fc4"
      },
      "outputs": [],
      "source": [
        "latency_tabel=pd.merge(first_table, df_orders, how='left').reset_index()"
      ]
    },
    {
      "cell_type": "code",
      "execution_count": null,
      "metadata": {
        "id": "QZvsnumG_0hj"
      },
      "outputs": [],
      "source": [
        "latency_tabel = latency_tabel.replace(0, np.NaN)"
      ]
    },
    {
      "cell_type": "code",
      "execution_count": null,
      "metadata": {
        "id": "Y9sjxKi6-qpm"
      },
      "outputs": [],
      "source": [
        "latency_tabel_mean=round(latency_tabel.iloc[:,19:28].mean()).reset_index()"
      ]
    },
    {
      "cell_type": "code",
      "execution_count": null,
      "metadata": {
        "id": "VFd4eNKbC3WU"
      },
      "outputs": [],
      "source": [
        "order_gap=[\"1th-2th\",\"2th-3th\",\"3th-4th\",\"4th-5th\",\"5th-6th\",\"6th-7th\",\"7th-8th\",\"8th-9th\",\"9th-10\"]\n",
        "latency_tabel_mean[\"order gap\"]=order_gap\n",
        "latency_tabel_mean[\"days\"]=latency_tabel_mean[0]\n",
        "latency_tabel_mean.drop(columns=[\"index\",0] )"
      ]
    },
    {
      "cell_type": "code",
      "execution_count": null,
      "metadata": {
        "id": "RWjPQns3DBNP"
      },
      "outputs": [],
      "source": [
        "plt.figure(figsize=(12,6))\n",
        "p=sns.barplot(x=latency_tabel_mean[\"order gap\"].values,y=latency_tabel_mean[\"days\"].values)\n",
        "p.set_xlabel(\"Order Gap\", fontsize = 20)\n",
        "p.set_ylabel(\"Days\", fontsize = 20)\n"
      ]
    },
    {
      "cell_type": "code",
      "execution_count": null,
      "metadata": {
        "id": "4FZT4uJbEcsg"
      },
      "outputs": [],
      "source": []
    }
  ],
  "metadata": {
    "colab": {
      "provenance": [],
      "include_colab_link": true
    },
    "kernelspec": {
      "display_name": "Python 3.9.12 ('base')",
      "language": "python",
      "name": "python3"
    },
    "language_info": {
      "codemirror_mode": {
        "name": "ipython",
        "version": 3
      },
      "file_extension": ".py",
      "mimetype": "text/x-python",
      "name": "python",
      "nbconvert_exporter": "python",
      "pygments_lexer": "ipython3",
      "version": "3.9.12"
    },
    "vscode": {
      "interpreter": {
        "hash": "448a2aa1cd415103c0cd8471d95107e72219cf1f01481cc8ffb44da1146afe9e"
      }
    }
  },
  "nbformat": 4,
  "nbformat_minor": 0
}